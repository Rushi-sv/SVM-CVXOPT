{
  "cells": [
    {
      "cell_type": "code",
      "source": [
        "from google.colab import drive\n",
        "drive.mount('/content/drive')"
      ],
      "metadata": {
        "colab": {
          "base_uri": "https://localhost:8080/"
        },
        "id": "ogfHC1keymUi",
        "outputId": "5bb7fc6a-7c58-40e3-ca6a-6b4d84782d74"
      },
      "execution_count": 19,
      "outputs": [
        {
          "output_type": "stream",
          "name": "stdout",
          "text": [
            "Drive already mounted at /content/drive; to attempt to forcibly remount, call drive.mount(\"/content/drive\", force_remount=True).\n"
          ]
        }
      ]
    },
    {
      "cell_type": "code",
      "execution_count": 20,
      "metadata": {
        "id": "IbJQZBK7xTRQ"
      },
      "outputs": [],
      "source": [
        "import numpy as np\n",
        "import pandas as pd\n",
        "from numpy import linalg\n",
        "import cvxopt\n",
        "import cvxopt.solvers\n",
        "import pylab as pl\n",
        "import matplotlib.pyplot as plt\n",
        "%matplotlib inline\n",
        "import seaborn as sns\n",
        "from sklearn.model_selection import train_test_split"
      ]
    },
    {
      "cell_type": "code",
      "execution_count": 21,
      "metadata": {
        "id": "ngC1ISB6xTRT"
      },
      "outputs": [],
      "source": [
        "# Define gaussian kernel\n",
        "def gaussian_kernel(x, y, sigma=1.75):\n",
        "    return np.exp(-linalg.norm(x-y)**2 / (2 * (sigma ** 2)))"
      ]
    },
    {
      "cell_type": "code",
      "execution_count": 22,
      "metadata": {
        "id": "5IXdGkDExTRU"
      },
      "outputs": [],
      "source": [
        "class SVM(object):\n",
        "\n",
        "    def __init__(self, kernel=gaussian_kernel, C=None):\n",
        "        self.kernel = kernel\n",
        "        self.C = C\n",
        "        if self.C is not None: self.C = float(self.C)\n",
        "    \n",
        "    def fit(self, X, y):\n",
        "        n_samples, n_features = X.shape\n",
        "        # Compute the Gram matrix\n",
        "        K = np.zeros((n_samples, n_samples))\n",
        "        for i in range(n_samples):\n",
        "            for j in range(n_samples):\n",
        "                K[i,j] = self.kernel(X[i], X[j])\n",
        "        # construct P, q, A, b, G, h matrices for CVXOPT\n",
        "        P = cvxopt.matrix(np.outer(y,y) * K)\n",
        "        q = cvxopt.matrix(np.ones(n_samples) * -1)\n",
        "        A = cvxopt.matrix(y, (1,n_samples))\n",
        "        b = cvxopt.matrix(0.0)\n",
        "        if self.C is None:     # hard-margin SVM\n",
        "            G = cvxopt.matrix(np.diag(np.ones(n_samples) * -1))\n",
        "            h = cvxopt.matrix(np.zeros(n_samples))\n",
        "        else:              # soft-margin SVM\n",
        "            G = cvxopt.matrix(np.vstack((np.diag(np.ones(n_samples) * -1), np.identity(n_samples))))\n",
        "            h = cvxopt.matrix(np.hstack((np.zeros(n_samples), np.ones(n_samples) * self.C)))\n",
        "        # solve QP problem\n",
        "        solution = cvxopt.solvers.qp(P, q, G, h, A, b)\n",
        "        # Lagrange multipliers\n",
        "        a = np.ravel(solution['x'])\n",
        "        # Support vectors have non zero lagrange multipliers\n",
        "        sv = a > 1e-5 # some small threshold\n",
        "        ind = np.arange(len(a))[sv]\n",
        "        self.a = a[sv]\n",
        "        self.sv = X[sv]\n",
        "        self.sv_y = y[sv]\n",
        "        print(\"%d support vectors out of %d points\" % (len(self.a), n_samples))\n",
        "    \n",
        "        # Intercept\n",
        "        self.b = 0\n",
        "        for n in range(len(self.a)):\n",
        "            self.b += self.sv_y[n]\n",
        "            self.b -= np.sum(self.a * self.sv_y * K[ind[n],sv])\n",
        "        self.b /= len(self.a)\n",
        "        \n",
        "    def project(self, X):\n",
        "        y_predict = np.zeros(len(X))\n",
        "        for i in range(len(X)):\n",
        "            s = 0\n",
        "            for a, sv_y, sv in zip(self.a, self.sv_y, self.sv):\n",
        "                s += a * sv_y * self.kernel(X[i], sv)\n",
        "                y_predict[i] = s\n",
        "        return y_predict + self.b\n",
        "        \n",
        "    def predict(self, X):\n",
        "        return np.sign(self.project(X))           "
      ]
    },
    {
      "cell_type": "code",
      "execution_count": 23,
      "metadata": {
        "id": "1gUW3_wSxTRV"
      },
      "outputs": [],
      "source": [
        "def plot_margin(X1_train, X2_train, clf):\n",
        "        def f(x, w, b, c=0):\n",
        "            # given x, return y such that [x,y] in on the line w.x + b = c\n",
        "            return (-w[0] * x - b + c) / w[1]\n",
        "\n",
        "        pl.plot(X1_train[:,0], X1_train[:,1], \"ro\")\n",
        "        pl.plot(X2_train[:,0], X2_train[:,1], \"bo\")\n",
        "        pl.scatter(clf.sv[:,0], clf.sv[:,1], s=100, c=\"g\")\n",
        "\n",
        "        # w.x + b = 0\n",
        "        a0 = -4; a1 = f(a0, clf.w, clf.b)\n",
        "        b0 = 4; b1 = f(b0, clf.w, clf.b)\n",
        "        pl.plot([a0,b0], [a1,b1], \"k\")\n",
        "\n",
        "        # w.x + b = 1\n",
        "        a0 = -4; a1 = f(a0, clf.w, clf.b, 1)\n",
        "        b0 = 4; b1 = f(b0, clf.w, clf.b, 1)\n",
        "        pl.plot([a0,b0], [a1,b1], \"k--\")\n",
        "\n",
        "        # w.x + b = -1\n",
        "        a0 = -4; a1 = f(a0, clf.w, clf.b, -1)\n",
        "        b0 = 4; b1 = f(b0, clf.w, clf.b, -1)\n",
        "        pl.plot([a0,b0], [a1,b1], \"k--\")\n",
        "\n",
        "        pl.axis(\"tight\")\n",
        "        pl.show()"
      ]
    },
    {
      "cell_type": "code",
      "source": [
        "def plot_contour(X1_train, X2_train, clf):\n",
        "  pl.plot(X1_train[:,0], X1_train[:,1], \"ro\")\n",
        "  pl.plot(X2_train[:,0], X2_train[:,1], \"bo\")\n",
        "  pl.scatter(clf.sv[:,0], clf.sv[:,1], s=100, c=\"g\")\n",
        "\n",
        "  X1, X2 = np.meshgrid(np.linspace(-6,6,50), np.linspace(-6,6,50))\n",
        "  X = np.array([[x1, x2] for x1, x2 in zip(np.ravel(X1), np.ravel(X2))])\n",
        "  Z = clf.project(X).reshape(X1.shape)\n",
        "  pl.contour(X1, X2, Z, [0.0], colors='k', linewidths=1, origin='lower')\n",
        "  pl.contour(X1, X2, Z + 1, [0.0], colors='grey', linewidths=1, origin='lower')\n",
        "  pl.contour(X1, X2, Z - 1, [0.0], colors='grey', linewidths=1, origin='lower')\n",
        "\n",
        "  pl.axis(\"tight\")\n",
        "  pl.show()"
      ],
      "metadata": {
        "id": "nCX1F5NeoPXW"
      },
      "execution_count": 24,
      "outputs": []
    },
    {
      "cell_type": "code",
      "execution_count": 25,
      "metadata": {
        "colab": {
          "base_uri": "https://localhost:8080/",
          "height": 206
        },
        "id": "0rrdpo7KxTRV",
        "outputId": "197c0f26-210a-4e89-a186-acc8278395e1"
      },
      "outputs": [
        {
          "output_type": "execute_result",
          "data": {
            "text/plain": [
              "          0         1    2\n",
              "0  1.160947  3.316569  1.0\n",
              "1  0.384876  2.260154  1.0\n",
              "2  0.761007  4.373630  1.0\n",
              "3  1.614981  4.262774  1.0\n",
              "4  0.098600  3.659726  1.0"
            ],
            "text/html": [
              "\n",
              "  <div id=\"df-9e49494f-51d3-4865-b0c8-2098ce42ebb9\">\n",
              "    <div class=\"colab-df-container\">\n",
              "      <div>\n",
              "<style scoped>\n",
              "    .dataframe tbody tr th:only-of-type {\n",
              "        vertical-align: middle;\n",
              "    }\n",
              "\n",
              "    .dataframe tbody tr th {\n",
              "        vertical-align: top;\n",
              "    }\n",
              "\n",
              "    .dataframe thead th {\n",
              "        text-align: right;\n",
              "    }\n",
              "</style>\n",
              "<table border=\"1\" class=\"dataframe\">\n",
              "  <thead>\n",
              "    <tr style=\"text-align: right;\">\n",
              "      <th></th>\n",
              "      <th>0</th>\n",
              "      <th>1</th>\n",
              "      <th>2</th>\n",
              "    </tr>\n",
              "  </thead>\n",
              "  <tbody>\n",
              "    <tr>\n",
              "      <th>0</th>\n",
              "      <td>1.160947</td>\n",
              "      <td>3.316569</td>\n",
              "      <td>1.0</td>\n",
              "    </tr>\n",
              "    <tr>\n",
              "      <th>1</th>\n",
              "      <td>0.384876</td>\n",
              "      <td>2.260154</td>\n",
              "      <td>1.0</td>\n",
              "    </tr>\n",
              "    <tr>\n",
              "      <th>2</th>\n",
              "      <td>0.761007</td>\n",
              "      <td>4.373630</td>\n",
              "      <td>1.0</td>\n",
              "    </tr>\n",
              "    <tr>\n",
              "      <th>3</th>\n",
              "      <td>1.614981</td>\n",
              "      <td>4.262774</td>\n",
              "      <td>1.0</td>\n",
              "    </tr>\n",
              "    <tr>\n",
              "      <th>4</th>\n",
              "      <td>0.098600</td>\n",
              "      <td>3.659726</td>\n",
              "      <td>1.0</td>\n",
              "    </tr>\n",
              "  </tbody>\n",
              "</table>\n",
              "</div>\n",
              "      <button class=\"colab-df-convert\" onclick=\"convertToInteractive('df-9e49494f-51d3-4865-b0c8-2098ce42ebb9')\"\n",
              "              title=\"Convert this dataframe to an interactive table.\"\n",
              "              style=\"display:none;\">\n",
              "        \n",
              "  <svg xmlns=\"http://www.w3.org/2000/svg\" height=\"24px\"viewBox=\"0 0 24 24\"\n",
              "       width=\"24px\">\n",
              "    <path d=\"M0 0h24v24H0V0z\" fill=\"none\"/>\n",
              "    <path d=\"M18.56 5.44l.94 2.06.94-2.06 2.06-.94-2.06-.94-.94-2.06-.94 2.06-2.06.94zm-11 1L8.5 8.5l.94-2.06 2.06-.94-2.06-.94L8.5 2.5l-.94 2.06-2.06.94zm10 10l.94 2.06.94-2.06 2.06-.94-2.06-.94-.94-2.06-.94 2.06-2.06.94z\"/><path d=\"M17.41 7.96l-1.37-1.37c-.4-.4-.92-.59-1.43-.59-.52 0-1.04.2-1.43.59L10.3 9.45l-7.72 7.72c-.78.78-.78 2.05 0 2.83L4 21.41c.39.39.9.59 1.41.59.51 0 1.02-.2 1.41-.59l7.78-7.78 2.81-2.81c.8-.78.8-2.07 0-2.86zM5.41 20L4 18.59l7.72-7.72 1.47 1.35L5.41 20z\"/>\n",
              "  </svg>\n",
              "      </button>\n",
              "      \n",
              "  <style>\n",
              "    .colab-df-container {\n",
              "      display:flex;\n",
              "      flex-wrap:wrap;\n",
              "      gap: 12px;\n",
              "    }\n",
              "\n",
              "    .colab-df-convert {\n",
              "      background-color: #E8F0FE;\n",
              "      border: none;\n",
              "      border-radius: 50%;\n",
              "      cursor: pointer;\n",
              "      display: none;\n",
              "      fill: #1967D2;\n",
              "      height: 32px;\n",
              "      padding: 0 0 0 0;\n",
              "      width: 32px;\n",
              "    }\n",
              "\n",
              "    .colab-df-convert:hover {\n",
              "      background-color: #E2EBFA;\n",
              "      box-shadow: 0px 1px 2px rgba(60, 64, 67, 0.3), 0px 1px 3px 1px rgba(60, 64, 67, 0.15);\n",
              "      fill: #174EA6;\n",
              "    }\n",
              "\n",
              "    [theme=dark] .colab-df-convert {\n",
              "      background-color: #3B4455;\n",
              "      fill: #D2E3FC;\n",
              "    }\n",
              "\n",
              "    [theme=dark] .colab-df-convert:hover {\n",
              "      background-color: #434B5C;\n",
              "      box-shadow: 0px 1px 3px 1px rgba(0, 0, 0, 0.15);\n",
              "      filter: drop-shadow(0px 1px 2px rgba(0, 0, 0, 0.3));\n",
              "      fill: #FFFFFF;\n",
              "    }\n",
              "  </style>\n",
              "\n",
              "      <script>\n",
              "        const buttonEl =\n",
              "          document.querySelector('#df-9e49494f-51d3-4865-b0c8-2098ce42ebb9 button.colab-df-convert');\n",
              "        buttonEl.style.display =\n",
              "          google.colab.kernel.accessAllowed ? 'block' : 'none';\n",
              "\n",
              "        async function convertToInteractive(key) {\n",
              "          const element = document.querySelector('#df-9e49494f-51d3-4865-b0c8-2098ce42ebb9');\n",
              "          const dataTable =\n",
              "            await google.colab.kernel.invokeFunction('convertToInteractive',\n",
              "                                                     [key], {});\n",
              "          if (!dataTable) return;\n",
              "\n",
              "          const docLinkHtml = 'Like what you see? Visit the ' +\n",
              "            '<a target=\"_blank\" href=https://colab.research.google.com/notebooks/data_table.ipynb>data table notebook</a>'\n",
              "            + ' to learn more about interactive tables.';\n",
              "          element.innerHTML = '';\n",
              "          dataTable['output_type'] = 'display_data';\n",
              "          await google.colab.output.renderOutput(dataTable, element);\n",
              "          const docLink = document.createElement('div');\n",
              "          docLink.innerHTML = docLinkHtml;\n",
              "          element.appendChild(docLink);\n",
              "        }\n",
              "      </script>\n",
              "    </div>\n",
              "  </div>\n",
              "  "
            ]
          },
          "metadata": {},
          "execution_count": 25
        }
      ],
      "source": [
        "df = pd.read_excel('/content/drive/MyDrive/Proj2DataSet.xlsx', header = None)\n",
        "df.head()"
      ]
    },
    {
      "cell_type": "code",
      "execution_count": 26,
      "metadata": {
        "id": "XOkAP6s1xTRX"
      },
      "outputs": [],
      "source": [
        "df.columns=['x1','x2','y']"
      ]
    },
    {
      "cell_type": "markdown",
      "metadata": {
        "id": "q8BFRo3ExTRX"
      },
      "source": [
        "def split_train(X1, y1, X2, y2):\n",
        "    X1_train = X1[:80]\n",
        "    y1_train = y1[:80]\n",
        "    X2_train = X2[:80]\n",
        "    y2_train = y2[:80]\n",
        "    X_train = np.vstack((X1_train, X2_train))\n",
        "    y_train = np.hstack((y1_train, y2_train))\n",
        "    return X_train, y_train\n",
        "\n",
        "def split_test(X1, y1, X2, y2):\n",
        "    X1_test = X1[80:]\n",
        "    y1_test = y1[80:]\n",
        "    X2_test = X2[80:]\n",
        "    y2_test = y2[80:]\n",
        "    X_test = np.vstack((X1_test, X2_test))\n",
        "    y_test = np.hstack((y1_test, y2_test))\n",
        "    return X_test, y_test"
      ]
    },
    {
      "cell_type": "code",
      "execution_count": 27,
      "metadata": {
        "colab": {
          "base_uri": "https://localhost:8080/",
          "height": 296
        },
        "id": "94geb7VyxTRY",
        "outputId": "cbca844a-0a8e-417f-eada-984444527d15"
      },
      "outputs": [
        {
          "output_type": "execute_result",
          "data": {
            "text/plain": [
              "<matplotlib.axes._subplots.AxesSubplot at 0x7fbda874f550>"
            ]
          },
          "metadata": {},
          "execution_count": 27
        },
        {
          "output_type": "display_data",
          "data": {
            "text/plain": [
              "<Figure size 432x288 with 1 Axes>"
            ],
            "image/png": "[encoded data removed]"
          },
          "metadata": {
            "needs_background": "light"
          }
        }
      ],
      "source": [
        "sns.scatterplot(data=df,x='x1',y='x2',hue='y')"
      ]
    },
    {
      "cell_type": "code",
      "execution_count": 28,
      "metadata": {
        "id": "_3j73kxwxTRZ"
      },
      "outputs": [],
      "source": [
        "X = df.drop('y',axis=1)\n",
        "y = df['y']\n",
        "x_train,  x_test,y_train, y_test = train_test_split(X, y, test_size=0.2, random_state=0)"
      ]
    },
    {
      "cell_type": "code",
      "source": [
        "x_train = np.array(x_train)\n",
        "y_train = np.array(y_train)"
      ],
      "metadata": {
        "id": "818AvJ6KzuR3"
      },
      "execution_count": 29,
      "outputs": []
    },
    {
      "cell_type": "code",
      "source": [
        "x_test = np.array(x_test)\n",
        "y_test = np.array(y_test)"
      ],
      "metadata": {
        "id": "pBt7JRy8rOmx"
      },
      "execution_count": 33,
      "outputs": []
    },
    {
      "cell_type": "code",
      "source": [
        "x_train.shape,y_train.shape"
      ],
      "metadata": {
        "colab": {
          "base_uri": "https://localhost:8080/"
        },
        "id": "tKsVfN38z2MJ",
        "outputId": "67bafcbc-5ddf-46e2-8340-a693bea7ac20"
      },
      "execution_count": 30,
      "outputs": [
        {
          "output_type": "execute_result",
          "data": {
            "text/plain": [
              "((80, 2), (80,))"
            ]
          },
          "metadata": {},
          "execution_count": 30
        }
      ]
    },
    {
      "cell_type": "code",
      "execution_count": 31,
      "metadata": {
        "colab": {
          "base_uri": "https://localhost:8080/"
        },
        "id": "QHFECKNBxTRa",
        "outputId": "944721df-4212-407a-80ee-b289feda3e23"
      },
      "outputs": [
        {
          "output_type": "stream",
          "name": "stdout",
          "text": [
            "     pcost       dcost       gap    pres   dres\n",
            " 0:  6.1747e+01 -2.5940e+03  4e+03  2e-01  4e-15\n",
            " 1:  5.9667e-02 -3.9762e+02  4e+02  1e-02  4e-15\n",
            " 2: -7.0623e+01 -1.9900e+02  1e+02  3e-03  4e-15\n",
            " 3: -9.7712e+01 -1.4614e+02  5e+01  7e-04  4e-15\n",
            " 4: -1.0433e+02 -1.3252e+02  3e+01  3e-04  4e-15\n",
            " 5: -1.1352e+02 -1.1938e+02  6e+00  2e-05  4e-15\n",
            " 6: -1.1558e+02 -1.1664e+02  1e+00  1e-06  5e-15\n",
            " 7: -1.1603e+02 -1.1605e+02  3e-02  4e-09  5e-15\n",
            " 8: -1.1604e+02 -1.1604e+02  3e-04  4e-11  5e-15\n",
            " 9: -1.1604e+02 -1.1604e+02  3e-06  4e-13  5e-15\n",
            "Optimal solution found.\n",
            "17 support vectors out of 80 points\n"
          ]
        }
      ],
      "source": [
        "clf = SVM(C=10)\n",
        "clf.fit(x_train, y_train)"
      ]
    },
    {
      "cell_type": "code",
      "source": [
        "y_predict = clf.predict(x_test)\n",
        "correct = np.sum(y_predict == y_test)\n",
        "print(\"%d out of %d predictions correct\" % (correct, len(y_predict)))\n",
        "\n",
        "plot_contour(x_train[y_train==1], x_test[y_predict==-1], clf)"
      ],
      "metadata": {
        "colab": {
          "base_uri": "https://localhost:8080/",
          "height": 286
        },
        "id": "DE7fOa7DopT3",
        "outputId": "ebabe3b4-5d4d-42c7-b5ec-c7fbc7a4137e"
      },
      "execution_count": 34,
      "outputs": [
        {
          "output_type": "stream",
          "name": "stdout",
          "text": [
            "18 out of 20 predictions correct\n"
          ]
        },
        {
          "output_type": "display_data",
          "data": {
            "text/plain": [
              "<Figure size 432x288 with 1 Axes>"
            ],
            "image/png": "[encoded data removed]"
          },
          "metadata": {
            "needs_background": "light"
          }
        }
      ]
    }
  ],
  "metadata": {
    "kernelspec": {
      "display_name": "Python 3",
      "language": "python",
      "name": "python3"
    },
    "language_info": {
      "codemirror_mode": {
        "name": "ipython",
        "version": 3
      },
      "file_extension": ".py",
      "mimetype": "text/x-python",
      "name": "python",
      "nbconvert_exporter": "python",
      "pygments_lexer": "ipython3",
      "version": "3.8.5"
    },
    "colab": {
      "name": "Copy of SVM-CVXOPT Robotronix.ipynb",
      "provenance": []
    },
    "accelerator": "GPU",
    "gpuClass": "standard"
  },
  "nbformat": 4,
  "nbformat_minor": 0
}